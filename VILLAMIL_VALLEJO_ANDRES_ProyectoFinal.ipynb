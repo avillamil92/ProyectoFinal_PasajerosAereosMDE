{
  "nbformat": 4,
  "nbformat_minor": 0,
  "metadata": {
    "colab": {
      "provenance": [],
      "authorship_tag": "ABX9TyPYhZpJh9nmPmAPN0pLFWOU",
      "include_colab_link": true
    },
    "kernelspec": {
      "name": "python3",
      "display_name": "Python 3"
    },
    "language_info": {
      "name": "python"
    }
  },
  "cells": [
    {
      "cell_type": "markdown",
      "metadata": {
        "id": "view-in-github",
        "colab_type": "text"
      },
      "source": [
        "<a href=\"https://colab.research.google.com/github/avillamil92/ProyectoFinal_PasajerosAereosMDE.github.io/blob/gh-pages/VILLAMIL_VALLEJO_ANDRES_ProyectoFinal.ipynb\" target=\"_parent\"><img src=\"https://colab.research.google.com/assets/colab-badge.svg\" alt=\"Open In Colab\"/></a>"
      ]
    },
    {
      "cell_type": "markdown",
      "source": [
        "# **MINTIC – TALENTO TECH | ANALISIS Y VISUALIZACIÓN DE DATOS**\n",
        "\n",
        "\n",
        "---\n",
        "\n"
      ],
      "metadata": {
        "id": "M6KKw4marqOF"
      }
    },
    {
      "cell_type": "markdown",
      "source": [
        "**PROYECTO FINAL**\n",
        "\n",
        "Pasajeros aereos salidas y llegadas internacionales del aeropuerto de Medellín\n",
        "\n",
        "\n"
      ],
      "metadata": {
        "id": "5c0Dk9EWsPGh"
      }
    },
    {
      "cell_type": "markdown",
      "source": [
        "###1. Instalación"
      ],
      "metadata": {
        "id": "um9mG1yLsdQx"
      }
    },
    {
      "cell_type": "code",
      "source": [
        "!pip install mysql-connector-python"
      ],
      "metadata": {
        "id": "WUxcyA3IrnkB",
        "colab": {
          "base_uri": "https://localhost:8080/"
        },
        "outputId": "8089b0bc-951a-452b-8c71-7dd91045150d"
      },
      "execution_count": 1,
      "outputs": [
        {
          "output_type": "stream",
          "name": "stdout",
          "text": [
            "Collecting mysql-connector-python\n",
            "  Downloading mysql_connector_python-8.4.0-cp310-cp310-manylinux_2_17_x86_64.whl (19.4 MB)\n",
            "\u001b[2K     \u001b[90m━━━━━━━━━━━━━━━━━━━━━━━━━━━━━━━━━━━━━━━━\u001b[0m \u001b[32m19.4/19.4 MB\u001b[0m \u001b[31m22.7 MB/s\u001b[0m eta \u001b[36m0:00:00\u001b[0m\n",
            "\u001b[?25hInstalling collected packages: mysql-connector-python\n",
            "Successfully installed mysql-connector-python-8.4.0\n"
          ]
        }
      ]
    },
    {
      "cell_type": "code",
      "source": [
        "!pip install --upgrade pip"
      ],
      "metadata": {
        "colab": {
          "base_uri": "https://localhost:8080/"
        },
        "id": "i7-tH-GfswRj",
        "outputId": "52244bd0-33ac-45d4-a538-62a3c6dea7ac"
      },
      "execution_count": 2,
      "outputs": [
        {
          "output_type": "stream",
          "name": "stdout",
          "text": [
            "Requirement already satisfied: pip in /usr/local/lib/python3.10/dist-packages (23.1.2)\n",
            "Collecting pip\n",
            "  Downloading pip-24.0-py3-none-any.whl (2.1 MB)\n",
            "\u001b[2K     \u001b[90m━━━━━━━━━━━━━━━━━━━━━━━━━━━━━━━━━━━━━━━━\u001b[0m \u001b[32m2.1/2.1 MB\u001b[0m \u001b[31m20.6 MB/s\u001b[0m eta \u001b[36m0:00:00\u001b[0m\n",
            "\u001b[?25hInstalling collected packages: pip\n",
            "  Attempting uninstall: pip\n",
            "    Found existing installation: pip 23.1.2\n",
            "    Uninstalling pip-23.1.2:\n",
            "      Successfully uninstalled pip-23.1.2\n",
            "Successfully installed pip-24.0\n"
          ]
        }
      ]
    },
    {
      "cell_type": "code",
      "source": [
        "pip install folium"
      ],
      "metadata": {
        "colab": {
          "base_uri": "https://localhost:8080/"
        },
        "id": "fz7JdyIRQNTz",
        "outputId": "322916b4-a1b2-48c1-a7d6-3d88b1386fb3"
      },
      "execution_count": 3,
      "outputs": [
        {
          "output_type": "stream",
          "name": "stdout",
          "text": [
            "Requirement already satisfied: folium in /usr/local/lib/python3.10/dist-packages (0.14.0)\n",
            "Requirement already satisfied: branca>=0.6.0 in /usr/local/lib/python3.10/dist-packages (from folium) (0.7.2)\n",
            "Requirement already satisfied: jinja2>=2.9 in /usr/local/lib/python3.10/dist-packages (from folium) (3.1.4)\n",
            "Requirement already satisfied: numpy in /usr/local/lib/python3.10/dist-packages (from folium) (1.25.2)\n",
            "Requirement already satisfied: requests in /usr/local/lib/python3.10/dist-packages (from folium) (2.31.0)\n",
            "Requirement already satisfied: MarkupSafe>=2.0 in /usr/local/lib/python3.10/dist-packages (from jinja2>=2.9->folium) (2.1.5)\n",
            "Requirement already satisfied: charset-normalizer<4,>=2 in /usr/local/lib/python3.10/dist-packages (from requests->folium) (3.3.2)\n",
            "Requirement already satisfied: idna<4,>=2.5 in /usr/local/lib/python3.10/dist-packages (from requests->folium) (3.7)\n",
            "Requirement already satisfied: urllib3<3,>=1.21.1 in /usr/local/lib/python3.10/dist-packages (from requests->folium) (2.0.7)\n",
            "Requirement already satisfied: certifi>=2017.4.17 in /usr/local/lib/python3.10/dist-packages (from requests->folium) (2024.2.2)\n",
            "\u001b[33mWARNING: Running pip as the 'root' user can result in broken permissions and conflicting behaviour with the system package manager. It is recommended to use a virtual environment instead: https://pip.pypa.io/warnings/venv\u001b[0m\u001b[33m\n",
            "\u001b[0m"
          ]
        }
      ]
    },
    {
      "cell_type": "markdown",
      "source": [
        "###2. Importación de librarias"
      ],
      "metadata": {
        "id": "mg8STa8Ds1af"
      }
    },
    {
      "cell_type": "code",
      "source": [
        "import matplotlib.pyplot as plt\n",
        "import pandas as pd\n",
        "import numpy as np\n",
        "import seaborn as sns\n",
        "import mysql.connector as my"
      ],
      "metadata": {
        "id": "Qwx7rWF2swPl"
      },
      "execution_count": 4,
      "outputs": []
    },
    {
      "cell_type": "code",
      "source": [
        "import folium"
      ],
      "metadata": {
        "id": "KQNL5rhrQTJj"
      },
      "execution_count": 5,
      "outputs": []
    },
    {
      "cell_type": "markdown",
      "source": [
        "###3. Carga de datos desde URL de GitHub"
      ],
      "metadata": {
        "id": "YxmqlRbTs-9N"
      }
    },
    {
      "cell_type": "code",
      "source": [
        "# Leer los datos desde la URL desplegada con GitHub con pandas\n",
        "\n",
        "url = 'https://raw.githubusercontent.com/avillamil92/ProyectoFinal_PasajerosAereosMDE.github.io/gh-pages/datos_combinados.csv'\n",
        "\n",
        "df = pd.read_csv(url)\n",
        "df.head()"
      ],
      "metadata": {
        "colab": {
          "base_uri": "https://localhost:8080/",
          "height": 226
        },
        "id": "UOS1-G4WSik9",
        "outputId": "58287106-3ac0-4630-e0a8-88421dfef642"
      },
      "execution_count": 6,
      "outputs": [
        {
          "output_type": "execute_result",
          "data": {
            "text/plain": [
              "  cod sal_destinoint sal_indicador  sal_periodo  sal_valor   ano  mes  \\\n",
              "0  KR  Corea del Sur    SALIDA_PAX       202209          1  2022    9   \n",
              "1  BB       Barbados    SALIDA_PAX       202209          1  2022    9   \n",
              "2  IL         Israel    SALIDA_PAX       202209         23  2022    9   \n",
              "3  KY   Islas Caimán    SALIDA_PAX       202209          1  2022    9   \n",
              "4  CA         Canadá    SALIDA_PAX       202209        740  2022    9   \n",
              "\n",
              "         lle_indicador  lle_origenpax  lle_periodo  lle_valor  total_pax  \\\n",
              "0  LLEGADA_PAX_INTERNA  Corea del Sur       202209          3          4   \n",
              "1  LLEGADA_PAX_INTERNA       Barbados       202209          2          3   \n",
              "2  LLEGADA_PAX_INTERNA         Israel       202209         48         71   \n",
              "3  LLEGADA_PAX_INTERNA   Islas Caimán       202209          3          4   \n",
              "4  LLEGADA_PAX_INTERNA         Canadá       202209        343       1083   \n",
              "\n",
              "     latitud    longitud  \n",
              "0  36.638392  127.696119  \n",
              "1  13.150033  -59.525030  \n",
              "2  30.812425   34.859476  \n",
              "3  19.703182  -79.917463  \n",
              "4  61.066692 -107.991707  "
            ],
            "text/html": [
              "\n",
              "  <div id=\"df-40e7f508-33ea-4a14-abf9-0aadc585978d\" class=\"colab-df-container\">\n",
              "    <div>\n",
              "<style scoped>\n",
              "    .dataframe tbody tr th:only-of-type {\n",
              "        vertical-align: middle;\n",
              "    }\n",
              "\n",
              "    .dataframe tbody tr th {\n",
              "        vertical-align: top;\n",
              "    }\n",
              "\n",
              "    .dataframe thead th {\n",
              "        text-align: right;\n",
              "    }\n",
              "</style>\n",
              "<table border=\"1\" class=\"dataframe\">\n",
              "  <thead>\n",
              "    <tr style=\"text-align: right;\">\n",
              "      <th></th>\n",
              "      <th>cod</th>\n",
              "      <th>sal_destinoint</th>\n",
              "      <th>sal_indicador</th>\n",
              "      <th>sal_periodo</th>\n",
              "      <th>sal_valor</th>\n",
              "      <th>ano</th>\n",
              "      <th>mes</th>\n",
              "      <th>lle_indicador</th>\n",
              "      <th>lle_origenpax</th>\n",
              "      <th>lle_periodo</th>\n",
              "      <th>lle_valor</th>\n",
              "      <th>total_pax</th>\n",
              "      <th>latitud</th>\n",
              "      <th>longitud</th>\n",
              "    </tr>\n",
              "  </thead>\n",
              "  <tbody>\n",
              "    <tr>\n",
              "      <th>0</th>\n",
              "      <td>KR</td>\n",
              "      <td>Corea del Sur</td>\n",
              "      <td>SALIDA_PAX</td>\n",
              "      <td>202209</td>\n",
              "      <td>1</td>\n",
              "      <td>2022</td>\n",
              "      <td>9</td>\n",
              "      <td>LLEGADA_PAX_INTERNA</td>\n",
              "      <td>Corea del Sur</td>\n",
              "      <td>202209</td>\n",
              "      <td>3</td>\n",
              "      <td>4</td>\n",
              "      <td>36.638392</td>\n",
              "      <td>127.696119</td>\n",
              "    </tr>\n",
              "    <tr>\n",
              "      <th>1</th>\n",
              "      <td>BB</td>\n",
              "      <td>Barbados</td>\n",
              "      <td>SALIDA_PAX</td>\n",
              "      <td>202209</td>\n",
              "      <td>1</td>\n",
              "      <td>2022</td>\n",
              "      <td>9</td>\n",
              "      <td>LLEGADA_PAX_INTERNA</td>\n",
              "      <td>Barbados</td>\n",
              "      <td>202209</td>\n",
              "      <td>2</td>\n",
              "      <td>3</td>\n",
              "      <td>13.150033</td>\n",
              "      <td>-59.525030</td>\n",
              "    </tr>\n",
              "    <tr>\n",
              "      <th>2</th>\n",
              "      <td>IL</td>\n",
              "      <td>Israel</td>\n",
              "      <td>SALIDA_PAX</td>\n",
              "      <td>202209</td>\n",
              "      <td>23</td>\n",
              "      <td>2022</td>\n",
              "      <td>9</td>\n",
              "      <td>LLEGADA_PAX_INTERNA</td>\n",
              "      <td>Israel</td>\n",
              "      <td>202209</td>\n",
              "      <td>48</td>\n",
              "      <td>71</td>\n",
              "      <td>30.812425</td>\n",
              "      <td>34.859476</td>\n",
              "    </tr>\n",
              "    <tr>\n",
              "      <th>3</th>\n",
              "      <td>KY</td>\n",
              "      <td>Islas Caimán</td>\n",
              "      <td>SALIDA_PAX</td>\n",
              "      <td>202209</td>\n",
              "      <td>1</td>\n",
              "      <td>2022</td>\n",
              "      <td>9</td>\n",
              "      <td>LLEGADA_PAX_INTERNA</td>\n",
              "      <td>Islas Caimán</td>\n",
              "      <td>202209</td>\n",
              "      <td>3</td>\n",
              "      <td>4</td>\n",
              "      <td>19.703182</td>\n",
              "      <td>-79.917463</td>\n",
              "    </tr>\n",
              "    <tr>\n",
              "      <th>4</th>\n",
              "      <td>CA</td>\n",
              "      <td>Canadá</td>\n",
              "      <td>SALIDA_PAX</td>\n",
              "      <td>202209</td>\n",
              "      <td>740</td>\n",
              "      <td>2022</td>\n",
              "      <td>9</td>\n",
              "      <td>LLEGADA_PAX_INTERNA</td>\n",
              "      <td>Canadá</td>\n",
              "      <td>202209</td>\n",
              "      <td>343</td>\n",
              "      <td>1083</td>\n",
              "      <td>61.066692</td>\n",
              "      <td>-107.991707</td>\n",
              "    </tr>\n",
              "  </tbody>\n",
              "</table>\n",
              "</div>\n",
              "    <div class=\"colab-df-buttons\">\n",
              "\n",
              "  <div class=\"colab-df-container\">\n",
              "    <button class=\"colab-df-convert\" onclick=\"convertToInteractive('df-40e7f508-33ea-4a14-abf9-0aadc585978d')\"\n",
              "            title=\"Convert this dataframe to an interactive table.\"\n",
              "            style=\"display:none;\">\n",
              "\n",
              "  <svg xmlns=\"http://www.w3.org/2000/svg\" height=\"24px\" viewBox=\"0 -960 960 960\">\n",
              "    <path d=\"M120-120v-720h720v720H120Zm60-500h600v-160H180v160Zm220 220h160v-160H400v160Zm0 220h160v-160H400v160ZM180-400h160v-160H180v160Zm440 0h160v-160H620v160ZM180-180h160v-160H180v160Zm440 0h160v-160H620v160Z\"/>\n",
              "  </svg>\n",
              "    </button>\n",
              "\n",
              "  <style>\n",
              "    .colab-df-container {\n",
              "      display:flex;\n",
              "      gap: 12px;\n",
              "    }\n",
              "\n",
              "    .colab-df-convert {\n",
              "      background-color: #E8F0FE;\n",
              "      border: none;\n",
              "      border-radius: 50%;\n",
              "      cursor: pointer;\n",
              "      display: none;\n",
              "      fill: #1967D2;\n",
              "      height: 32px;\n",
              "      padding: 0 0 0 0;\n",
              "      width: 32px;\n",
              "    }\n",
              "\n",
              "    .colab-df-convert:hover {\n",
              "      background-color: #E2EBFA;\n",
              "      box-shadow: 0px 1px 2px rgba(60, 64, 67, 0.3), 0px 1px 3px 1px rgba(60, 64, 67, 0.15);\n",
              "      fill: #174EA6;\n",
              "    }\n",
              "\n",
              "    .colab-df-buttons div {\n",
              "      margin-bottom: 4px;\n",
              "    }\n",
              "\n",
              "    [theme=dark] .colab-df-convert {\n",
              "      background-color: #3B4455;\n",
              "      fill: #D2E3FC;\n",
              "    }\n",
              "\n",
              "    [theme=dark] .colab-df-convert:hover {\n",
              "      background-color: #434B5C;\n",
              "      box-shadow: 0px 1px 3px 1px rgba(0, 0, 0, 0.15);\n",
              "      filter: drop-shadow(0px 1px 2px rgba(0, 0, 0, 0.3));\n",
              "      fill: #FFFFFF;\n",
              "    }\n",
              "  </style>\n",
              "\n",
              "    <script>\n",
              "      const buttonEl =\n",
              "        document.querySelector('#df-40e7f508-33ea-4a14-abf9-0aadc585978d button.colab-df-convert');\n",
              "      buttonEl.style.display =\n",
              "        google.colab.kernel.accessAllowed ? 'block' : 'none';\n",
              "\n",
              "      async function convertToInteractive(key) {\n",
              "        const element = document.querySelector('#df-40e7f508-33ea-4a14-abf9-0aadc585978d');\n",
              "        const dataTable =\n",
              "          await google.colab.kernel.invokeFunction('convertToInteractive',\n",
              "                                                    [key], {});\n",
              "        if (!dataTable) return;\n",
              "\n",
              "        const docLinkHtml = 'Like what you see? Visit the ' +\n",
              "          '<a target=\"_blank\" href=https://colab.research.google.com/notebooks/data_table.ipynb>data table notebook</a>'\n",
              "          + ' to learn more about interactive tables.';\n",
              "        element.innerHTML = '';\n",
              "        dataTable['output_type'] = 'display_data';\n",
              "        await google.colab.output.renderOutput(dataTable, element);\n",
              "        const docLink = document.createElement('div');\n",
              "        docLink.innerHTML = docLinkHtml;\n",
              "        element.appendChild(docLink);\n",
              "      }\n",
              "    </script>\n",
              "  </div>\n",
              "\n",
              "\n",
              "<div id=\"df-d71c44c0-44d7-41d4-9380-eaecf0162e6e\">\n",
              "  <button class=\"colab-df-quickchart\" onclick=\"quickchart('df-d71c44c0-44d7-41d4-9380-eaecf0162e6e')\"\n",
              "            title=\"Suggest charts\"\n",
              "            style=\"display:none;\">\n",
              "\n",
              "<svg xmlns=\"http://www.w3.org/2000/svg\" height=\"24px\"viewBox=\"0 0 24 24\"\n",
              "     width=\"24px\">\n",
              "    <g>\n",
              "        <path d=\"M19 3H5c-1.1 0-2 .9-2 2v14c0 1.1.9 2 2 2h14c1.1 0 2-.9 2-2V5c0-1.1-.9-2-2-2zM9 17H7v-7h2v7zm4 0h-2V7h2v10zm4 0h-2v-4h2v4z\"/>\n",
              "    </g>\n",
              "</svg>\n",
              "  </button>\n",
              "\n",
              "<style>\n",
              "  .colab-df-quickchart {\n",
              "      --bg-color: #E8F0FE;\n",
              "      --fill-color: #1967D2;\n",
              "      --hover-bg-color: #E2EBFA;\n",
              "      --hover-fill-color: #174EA6;\n",
              "      --disabled-fill-color: #AAA;\n",
              "      --disabled-bg-color: #DDD;\n",
              "  }\n",
              "\n",
              "  [theme=dark] .colab-df-quickchart {\n",
              "      --bg-color: #3B4455;\n",
              "      --fill-color: #D2E3FC;\n",
              "      --hover-bg-color: #434B5C;\n",
              "      --hover-fill-color: #FFFFFF;\n",
              "      --disabled-bg-color: #3B4455;\n",
              "      --disabled-fill-color: #666;\n",
              "  }\n",
              "\n",
              "  .colab-df-quickchart {\n",
              "    background-color: var(--bg-color);\n",
              "    border: none;\n",
              "    border-radius: 50%;\n",
              "    cursor: pointer;\n",
              "    display: none;\n",
              "    fill: var(--fill-color);\n",
              "    height: 32px;\n",
              "    padding: 0;\n",
              "    width: 32px;\n",
              "  }\n",
              "\n",
              "  .colab-df-quickchart:hover {\n",
              "    background-color: var(--hover-bg-color);\n",
              "    box-shadow: 0 1px 2px rgba(60, 64, 67, 0.3), 0 1px 3px 1px rgba(60, 64, 67, 0.15);\n",
              "    fill: var(--button-hover-fill-color);\n",
              "  }\n",
              "\n",
              "  .colab-df-quickchart-complete:disabled,\n",
              "  .colab-df-quickchart-complete:disabled:hover {\n",
              "    background-color: var(--disabled-bg-color);\n",
              "    fill: var(--disabled-fill-color);\n",
              "    box-shadow: none;\n",
              "  }\n",
              "\n",
              "  .colab-df-spinner {\n",
              "    border: 2px solid var(--fill-color);\n",
              "    border-color: transparent;\n",
              "    border-bottom-color: var(--fill-color);\n",
              "    animation:\n",
              "      spin 1s steps(1) infinite;\n",
              "  }\n",
              "\n",
              "  @keyframes spin {\n",
              "    0% {\n",
              "      border-color: transparent;\n",
              "      border-bottom-color: var(--fill-color);\n",
              "      border-left-color: var(--fill-color);\n",
              "    }\n",
              "    20% {\n",
              "      border-color: transparent;\n",
              "      border-left-color: var(--fill-color);\n",
              "      border-top-color: var(--fill-color);\n",
              "    }\n",
              "    30% {\n",
              "      border-color: transparent;\n",
              "      border-left-color: var(--fill-color);\n",
              "      border-top-color: var(--fill-color);\n",
              "      border-right-color: var(--fill-color);\n",
              "    }\n",
              "    40% {\n",
              "      border-color: transparent;\n",
              "      border-right-color: var(--fill-color);\n",
              "      border-top-color: var(--fill-color);\n",
              "    }\n",
              "    60% {\n",
              "      border-color: transparent;\n",
              "      border-right-color: var(--fill-color);\n",
              "    }\n",
              "    80% {\n",
              "      border-color: transparent;\n",
              "      border-right-color: var(--fill-color);\n",
              "      border-bottom-color: var(--fill-color);\n",
              "    }\n",
              "    90% {\n",
              "      border-color: transparent;\n",
              "      border-bottom-color: var(--fill-color);\n",
              "    }\n",
              "  }\n",
              "</style>\n",
              "\n",
              "  <script>\n",
              "    async function quickchart(key) {\n",
              "      const quickchartButtonEl =\n",
              "        document.querySelector('#' + key + ' button');\n",
              "      quickchartButtonEl.disabled = true;  // To prevent multiple clicks.\n",
              "      quickchartButtonEl.classList.add('colab-df-spinner');\n",
              "      try {\n",
              "        const charts = await google.colab.kernel.invokeFunction(\n",
              "            'suggestCharts', [key], {});\n",
              "      } catch (error) {\n",
              "        console.error('Error during call to suggestCharts:', error);\n",
              "      }\n",
              "      quickchartButtonEl.classList.remove('colab-df-spinner');\n",
              "      quickchartButtonEl.classList.add('colab-df-quickchart-complete');\n",
              "    }\n",
              "    (() => {\n",
              "      let quickchartButtonEl =\n",
              "        document.querySelector('#df-d71c44c0-44d7-41d4-9380-eaecf0162e6e button');\n",
              "      quickchartButtonEl.style.display =\n",
              "        google.colab.kernel.accessAllowed ? 'block' : 'none';\n",
              "    })();\n",
              "  </script>\n",
              "</div>\n",
              "\n",
              "    </div>\n",
              "  </div>\n"
            ],
            "application/vnd.google.colaboratory.intrinsic+json": {
              "type": "dataframe",
              "variable_name": "df",
              "summary": "{\n  \"name\": \"df\",\n  \"rows\": 5869,\n  \"fields\": [\n    {\n      \"column\": \"cod\",\n      \"properties\": {\n        \"dtype\": \"category\",\n        \"num_unique_values\": 71,\n        \"samples\": [\n          \"FR\",\n          \"KR\",\n          \"IE\"\n        ],\n        \"semantic_type\": \"\",\n        \"description\": \"\"\n      }\n    },\n    {\n      \"column\": \"sal_destinoint\",\n      \"properties\": {\n        \"dtype\": \"category\",\n        \"num_unique_values\": 71,\n        \"samples\": [\n          \"Francia\",\n          \"Corea del Sur\",\n          \"Irlanda\"\n        ],\n        \"semantic_type\": \"\",\n        \"description\": \"\"\n      }\n    },\n    {\n      \"column\": \"sal_indicador\",\n      \"properties\": {\n        \"dtype\": \"category\",\n        \"num_unique_values\": 1,\n        \"samples\": [\n          \"SALIDA_PAX\"\n        ],\n        \"semantic_type\": \"\",\n        \"description\": \"\"\n      }\n    },\n    {\n      \"column\": \"sal_periodo\",\n      \"properties\": {\n        \"dtype\": \"number\",\n        \"std\": 446,\n        \"min\": 200701,\n        \"max\": 202302,\n        \"num_unique_values\": 194,\n        \"samples\": [\n          201312\n        ],\n        \"semantic_type\": \"\",\n        \"description\": \"\"\n      }\n    },\n    {\n      \"column\": \"sal_valor\",\n      \"properties\": {\n        \"dtype\": \"number\",\n        \"std\": 5002,\n        \"min\": -1,\n        \"max\": 52617,\n        \"num_unique_values\": 2000,\n        \"samples\": [\n          985\n        ],\n        \"semantic_type\": \"\",\n        \"description\": \"\"\n      }\n    },\n    {\n      \"column\": \"ano\",\n      \"properties\": {\n        \"dtype\": \"number\",\n        \"std\": 4,\n        \"min\": 2007,\n        \"max\": 2023,\n        \"num_unique_values\": 17,\n        \"samples\": [\n          2022\n        ],\n        \"semantic_type\": \"\",\n        \"description\": \"\"\n      }\n    },\n    {\n      \"column\": \"mes\",\n      \"properties\": {\n        \"dtype\": \"number\",\n        \"std\": 3,\n        \"min\": 1,\n        \"max\": 12,\n        \"num_unique_values\": 12,\n        \"samples\": [\n          10\n        ],\n        \"semantic_type\": \"\",\n        \"description\": \"\"\n      }\n    },\n    {\n      \"column\": \"lle_indicador\",\n      \"properties\": {\n        \"dtype\": \"category\",\n        \"num_unique_values\": 1,\n        \"samples\": [\n          \"LLEGADA_PAX_INTERNA\"\n        ],\n        \"semantic_type\": \"\",\n        \"description\": \"\"\n      }\n    },\n    {\n      \"column\": \"lle_origenpax\",\n      \"properties\": {\n        \"dtype\": \"category\",\n        \"num_unique_values\": 71,\n        \"samples\": [\n          \"Francia\"\n        ],\n        \"semantic_type\": \"\",\n        \"description\": \"\"\n      }\n    },\n    {\n      \"column\": \"lle_periodo\",\n      \"properties\": {\n        \"dtype\": \"number\",\n        \"std\": 446,\n        \"min\": 200701,\n        \"max\": 202302,\n        \"num_unique_values\": 194,\n        \"samples\": [\n          201312\n        ],\n        \"semantic_type\": \"\",\n        \"description\": \"\"\n      }\n    },\n    {\n      \"column\": \"lle_valor\",\n      \"properties\": {\n        \"dtype\": \"number\",\n        \"std\": 4937,\n        \"min\": -1,\n        \"max\": 52111,\n        \"num_unique_values\": 1930,\n        \"samples\": [\n          18657\n        ],\n        \"semantic_type\": \"\",\n        \"description\": \"\"\n      }\n    },\n    {\n      \"column\": \"total_pax\",\n      \"properties\": {\n        \"dtype\": \"number\",\n        \"std\": 9913,\n        \"min\": -2,\n        \"max\": 99720,\n        \"num_unique_values\": 2458,\n        \"samples\": [\n          1684\n        ],\n        \"semantic_type\": \"\",\n        \"description\": \"\"\n      }\n    },\n    {\n      \"column\": \"latitud\",\n      \"properties\": {\n        \"dtype\": \"number\",\n        \"std\": 24.464762375967435,\n        \"min\": -41.5000831,\n        \"max\": 64.6863136,\n        \"num_unique_values\": 73,\n        \"samples\": [\n          61.0666922\n        ],\n        \"semantic_type\": \"\",\n        \"description\": \"\"\n      }\n    },\n    {\n      \"column\": \"longitud\",\n      \"properties\": {\n        \"dtype\": \"number\",\n        \"std\": 50.570800333410105,\n        \"min\": -107.991707,\n        \"max\": 172.8344077,\n        \"num_unique_values\": 73,\n        \"samples\": [\n          -107.991707\n        ],\n        \"semantic_type\": \"\",\n        \"description\": \"\"\n      }\n    }\n  ]\n}"
            }
          },
          "metadata": {},
          "execution_count": 6
        }
      ]
    },
    {
      "cell_type": "markdown",
      "source": [
        "###4. Exploración de los datos del DF"
      ],
      "metadata": {
        "id": "bEVVob0htUHz"
      }
    },
    {
      "cell_type": "code",
      "source": [
        "# Verificamos los tipos de datos\n",
        "\n",
        "print(df.dtypes)"
      ],
      "metadata": {
        "colab": {
          "base_uri": "https://localhost:8080/"
        },
        "id": "jSKPY5mLswM_",
        "outputId": "933838fc-a8ed-493a-a754-d21e6b79c300"
      },
      "execution_count": 7,
      "outputs": [
        {
          "output_type": "stream",
          "name": "stdout",
          "text": [
            "cod                object\n",
            "sal_destinoint     object\n",
            "sal_indicador      object\n",
            "sal_periodo         int64\n",
            "sal_valor           int64\n",
            "ano                 int64\n",
            "mes                 int64\n",
            "lle_indicador      object\n",
            "lle_origenpax      object\n",
            "lle_periodo         int64\n",
            "lle_valor           int64\n",
            "total_pax           int64\n",
            "latitud           float64\n",
            "longitud          float64\n",
            "dtype: object\n"
          ]
        }
      ]
    },
    {
      "cell_type": "code",
      "source": [
        "# Contamos el número de registros (filas) en el DataFrame\n",
        "\n",
        "num_registros = df.shape[0]\n",
        "print(f\"El número de registros en el dataset es: {num_registros}\")"
      ],
      "metadata": {
        "colab": {
          "base_uri": "https://localhost:8080/"
        },
        "id": "pJYhdY2XswKF",
        "outputId": "d818976e-5177-4a9e-ebcd-a63c0d7c721d"
      },
      "execution_count": 8,
      "outputs": [
        {
          "output_type": "stream",
          "name": "stdout",
          "text": [
            "El número de registros en el dataset es: 5869\n"
          ]
        }
      ]
    },
    {
      "cell_type": "code",
      "source": [
        "# Verificamos si hay valores nulos\n",
        "\n",
        "print(df.isnull().sum())"
      ],
      "metadata": {
        "colab": {
          "base_uri": "https://localhost:8080/"
        },
        "id": "9Zq_hMroswGh",
        "outputId": "bb868c6d-35f3-43b7-f080-1e405c3a2428"
      },
      "execution_count": 9,
      "outputs": [
        {
          "output_type": "stream",
          "name": "stdout",
          "text": [
            "cod               0\n",
            "sal_destinoint    0\n",
            "sal_indicador     0\n",
            "sal_periodo       0\n",
            "sal_valor         0\n",
            "ano               0\n",
            "mes               0\n",
            "lle_indicador     0\n",
            "lle_origenpax     0\n",
            "lle_periodo       0\n",
            "lle_valor         0\n",
            "total_pax         0\n",
            "latitud           0\n",
            "longitud          0\n",
            "dtype: int64\n"
          ]
        }
      ]
    },
    {
      "cell_type": "code",
      "execution_count": 10,
      "metadata": {
        "id": "W7PZm1H4rfIH",
        "colab": {
          "base_uri": "https://localhost:8080/"
        },
        "outputId": "02f89889-1ece-42cc-b288-d3d7b2ad43be"
      },
      "outputs": [
        {
          "output_type": "stream",
          "name": "stdout",
          "text": [
            "0\n"
          ]
        }
      ],
      "source": [
        "# Contamos si hay valores duplicados en el DataFrame completo\n",
        "\n",
        "print(df.duplicated().sum())"
      ]
    },
    {
      "cell_type": "code",
      "source": [
        "# Obtener la lista de países únicos y ordenarla\n",
        "paises_unicos = sorted(pd.unique(df['sal_destinoint']))\n",
        "\n",
        "# Imprimir la lista de países únicos\n",
        "print(\"Lista de países únicos:\", paises_unicos)\n",
        "\n",
        "# Imprimir el número de países únicos\n",
        "print(\"Número de países únicos:\", len(paises_unicos))"
      ],
      "metadata": {
        "colab": {
          "base_uri": "https://localhost:8080/"
        },
        "id": "oKz6o8bTVKUE",
        "outputId": "eba7362e-fec0-489a-932c-32da6fffb978"
      },
      "execution_count": 11,
      "outputs": [
        {
          "output_type": "stream",
          "name": "stdout",
          "text": [
            "Lista de países únicos: ['Alemania', 'Antigua and barbuda', 'Antillas Neerlandesas', 'Argentina', 'Australia', 'Austria', 'Bahamas', 'Barbados', 'Belice', 'Bermudas', 'Bolivia', 'Brasil', 'Bélgica', 'CROACIA', 'Canadá', 'Chile', 'China', 'Colombia', 'Corea del Sur', 'Costa Rica', 'Cuba', 'Dinamarca', 'Dominica', 'Ecuador', 'El Salvador', 'Emiratos Árabes Unidos', 'España', 'Estados Unidos', 'Filipinas', 'Francia', 'Grecia', 'Guatemala', 'Guyana', 'Haiti', 'Honduras', 'Irlanda', 'Islas Caimán', 'Israel', 'Italia', 'Jamaica', 'Japón', 'Jordania', 'Líbano', 'Marruecos', 'México', 'Nicaragua', 'Noruega', 'Nueva Zelanda', 'Panamá', 'Paraguay', 'Países Bajos', 'Perú', 'Portugal', 'Puerto Rico', 'Qatar', 'Reino Unido', 'República Dominicana', 'Rumania', 'Rusia', 'San Cristóbal y Nieves', 'Santa Lucia', 'Senegal', 'Sudáfrica', 'Suecia', 'Suiza', 'Surinam', 'Trinidad y Tobago', 'Turquía', 'Uruguay', 'Venezuela', 'india']\n",
            "Número de países únicos: 71\n"
          ]
        }
      ]
    },
    {
      "cell_type": "markdown",
      "source": [
        "###5. Análisis de los datos"
      ],
      "metadata": {
        "id": "64-CS8frbemn"
      }
    },
    {
      "cell_type": "code",
      "source": [
        "# Valor de la suma completa del dataset combinado de pasajeros de salida, llegada y 'total_pax' de Medellín por año\n",
        "\n",
        "suma_por_ano = df.groupby('ano')[['sal_valor','lle_valor','total_pax']].sum()\n",
        "print(suma_por_ano)"
      ],
      "metadata": {
        "id": "fwGE9p5zbmg5",
        "colab": {
          "base_uri": "https://localhost:8080/"
        },
        "outputId": "dc74cde7-f77d-4891-eece-a4eb8d27a80e"
      },
      "execution_count": 12,
      "outputs": [
        {
          "output_type": "stream",
          "name": "stdout",
          "text": [
            "      sal_valor  lle_valor  total_pax\n",
            "ano                                  \n",
            "2007     288161     277111     565272\n",
            "2008     315532     289812     605344\n",
            "2009     369658     364981     734639\n",
            "2010     417919     404219     822138\n",
            "2011     418826     403076     821902\n",
            "2012     456509     452469     908978\n",
            "2013     533848     528016    1061864\n",
            "2014     594409     593706    1188115\n",
            "2015     671639     675362    1347001\n",
            "2016     781639     772988    1554627\n",
            "2017     796001     781864    1577865\n",
            "2018     900232     883654    1783886\n",
            "2019     994788     973779    1968567\n",
            "2020     296462     302696     599158\n",
            "2021     793060     765225    1558285\n",
            "2022    1392999    1306326    2699325\n",
            "2023     249706     224207     473913\n"
          ]
        }
      ]
    },
    {
      "cell_type": "code",
      "source": [
        "# Valor de la suma completa del dataset combinado de pasajeros de salida, llegada y 'total_pax' de Medellín por pais\n",
        "\n",
        "suma_por_pais = df.groupby('lle_origenpax')[['sal_valor','lle_valor','total_pax']].sum()\n",
        "\n",
        "# Se cambia la etiqueta 'lle_origenpax' por 'pais' por presentación\n",
        "suma_por_pais = suma_por_pais.rename(columns={'lle_origenpax': 'país'})\n",
        "\n",
        "print(suma_por_pais)"
      ],
      "metadata": {
        "id": "45OgPq-gbnHj",
        "colab": {
          "base_uri": "https://localhost:8080/"
        },
        "outputId": "7a502624-f09e-4fd7-bed4-abae9b3155ff"
      },
      "execution_count": 13,
      "outputs": [
        {
          "output_type": "stream",
          "name": "stdout",
          "text": [
            "                       sal_valor  lle_valor  total_pax\n",
            "lle_origenpax                                         \n",
            "Alemania                   12181      12525      24706\n",
            "Antillas Neerlandesas     155807     155027     310834\n",
            "Argentina                 101342      95592     196934\n",
            "Australia                   1148       1187       2335\n",
            "Austria                      502        446        948\n",
            "...                          ...        ...        ...\n",
            "Turquía                       25         88        113\n",
            "Uruguay                    11984      12734      24718\n",
            "Venezuela                 241074     240911     481985\n",
            "antigua and barbuda           15         29         44\n",
            "india                         -4         -4         -8\n",
            "\n",
            "[71 rows x 3 columns]\n"
          ]
        }
      ]
    },
    {
      "cell_type": "code",
      "source": [
        "# Ordenar los datos según el número total de pasajeros ('total_pax') en orden descendente\n",
        "suma_por_pais_orden = suma_por_pais.sort_values(by='total_pax', ascending=False)\n",
        "\n",
        "print(suma_por_pais_orden.head(10))"
      ],
      "metadata": {
        "id": "tfLJVx1sbnE3",
        "colab": {
          "base_uri": "https://localhost:8080/"
        },
        "outputId": "6a8470ff-5355-427e-e64d-ef7fb4eab99c"
      },
      "execution_count": 14,
      "outputs": [
        {
          "output_type": "stream",
          "name": "stdout",
          "text": [
            "                       sal_valor  lle_valor  total_pax\n",
            "lle_origenpax                                         \n",
            "Estados Unidos           3998789    3944880    7943669\n",
            "Panamá                   2652481    2607040    5259521\n",
            "México                    798639     751646    1550285\n",
            "España                    671741     605431    1277172\n",
            "Perú                      424368     445847     870215\n",
            "República Dominicana      260874     269046     529920\n",
            "Venezuela                 241074     240911     481985\n",
            "Ecuador                   235904     214761     450665\n",
            "Antillas Neerlandesas     155807     155027     310834\n",
            "Brasil                    136473     128772     265245\n"
          ]
        }
      ]
    },
    {
      "cell_type": "markdown",
      "source": [
        "**Conclusión:**\n",
        "\n",
        "1. Entre 2007 y 2023, el país con máyor movimiento de pasajeros es Estados Unidos desde y hacia Medellín\n",
        "2. Entre 2007 y 2023, los principales vuelos aeroportuarios desde/hacia Medellín corresponden a paises ubicados en norte america y america latina."
      ],
      "metadata": {
        "id": "teyUUn-3uuve"
      }
    },
    {
      "cell_type": "markdown",
      "source": [
        "###6. Gráficas y visualización de datos"
      ],
      "metadata": {
        "id": "dLZdHFJFbxZr"
      }
    },
    {
      "cell_type": "code",
      "source": [
        "# Tendencia de pasajeros internacionales por año con la libreria Matplotlib\n",
        "\n",
        "import matplotlib.pyplot as plt\n",
        "\n",
        "llegadas_año = df.groupby('ano')['total_pax'].sum()\n",
        "llegadas_año.plot(kind='bar', color='skyblue')\n",
        "plt.title('Movimiento de pasajeros por vuelos internacionales por año a Medellín')\n",
        "plt.xlabel('Año')\n",
        "plt.ylabel('Pasajeros internacionales')\n",
        "\n",
        "# Establecer el formato de las etiquetas del eje y en número normal\n",
        "plt.ticklabel_format(style='plain', axis='y')\n",
        "\n",
        "plt.xticks(rotation=45, ha='right')\n",
        "plt.tight_layout()\n",
        "plt.show()"
      ],
      "metadata": {
        "id": "gFjmbLcvbw5F",
        "colab": {
          "base_uri": "https://localhost:8080/",
          "height": 487
        },
        "outputId": "f306e7bd-feea-4b73-eea7-ec4f5349353a"
      },
      "execution_count": 15,
      "outputs": [
        {
          "output_type": "display_data",
          "data": {
            "text/plain": [
              "<Figure size 640x480 with 1 Axes>"
            ],
            "image/png": "[encoded data removed]"
          },
          "metadata": {}
        }
      ]
    },
    {
      "cell_type": "markdown",
      "source": [
        "**Conclusión:**\n",
        "\n",
        "1. Entre 2007 y 2019, el número de pasajeros aumenta año tras año. Para 2020 y 2021 existe una reducción significativa debido a la emergencia sanitaria del Covid-19 que tuvo como consecuencia la cancelación de vuelos con origenes y/o destinos internacionales.\n",
        "2. Es importante revisar la fuente de información de estos datos, puesto que para el 2022 se encuentran reportando un movimiento 27 millones de pasajeros internacionales, este valor esta fuera de contexto de acuerdo con la realidad del aeropuerto y de los movimientos de pasajeros internacionales a nivel nacional."
      ],
      "metadata": {
        "id": "D528Qcxxu4H_"
      }
    },
    {
      "cell_type": "code",
      "source": [
        "# Correlación de las salidas y llegadas con la libreria Seaborn\n",
        "\n",
        "import seaborn as sns\n",
        "\n",
        "from matplotlib import pyplot as plt\n",
        "\n",
        "sns.regplot(x='sal_valor', y='lle_valor', data=df)\n",
        "plt.title('Correlación entre las salidas y llegadas internacionales de Medellín')\n",
        "plt.show()"
      ],
      "metadata": {
        "id": "k1Dh8B4fbmt9",
        "colab": {
          "base_uri": "https://localhost:8080/",
          "height": 472
        },
        "outputId": "b8657452-72a8-4672-a417-32a4d475480e"
      },
      "execution_count": 16,
      "outputs": [
        {
          "output_type": "display_data",
          "data": {
            "text/plain": [
              "<Figure size 640x480 with 1 Axes>"
            ],
            "image/png": "[encoded data removed]"
          },
          "metadata": {}
        }
      ]
    },
    {
      "cell_type": "markdown",
      "source": [
        "**Conclusión:**\n",
        "\n",
        "1. Se observa que para la mayoría de paises la cantidad de pasajeros de salida es ligeramente mayor que los pasajeros que llegan a Medellín. Se puede inferir que el movimiento de pasajeros internacionales que llegan es aproximadamente igual a los pasajeros internacionales que salen de Medellín."
      ],
      "metadata": {
        "id": "S9Futmnpu7H5"
      }
    }
  ]
}